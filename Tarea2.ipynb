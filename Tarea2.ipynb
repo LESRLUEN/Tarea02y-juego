{
  "nbformat": 4,
  "nbformat_minor": 0,
  "metadata": {
    "colab": {
      "name": "Tarea2.ipynb",
      "provenance": [],
      "collapsed_sections": [],
      "authorship_tag": "ABX9TyOb0eBhe3XsFsL5bgXriMPR",
      "include_colab_link": true
    },
    "kernelspec": {
      "name": "python3",
      "display_name": "Python 3"
    },
    "language_info": {
      "name": "python"
    }
  },
  "cells": [
    {
      "cell_type": "markdown",
      "metadata": {
        "id": "view-in-github",
        "colab_type": "text"
      },
      "source": [
        "<a href=\"https://colab.research.google.com/github/LESRLUEN/Tarea02y-juego/blob/main/Tarea2.ipynb\" target=\"_parent\"><img src=\"https://colab.research.google.com/assets/colab-badge.svg\" alt=\"Open In Colab\"/></a>"
      ]
    },
    {
      "cell_type": "code",
      "metadata": {
        "colab": {
          "base_uri": "https://localhost:8080/"
        },
        "id": "aCg02WbZsYpv",
        "outputId": "b4196149-5015-46ca-8081-58adb01a3f2f"
      },
      "source": [
        "\"\"\"Serie de fibonacci con recursividad\"\"\"\n",
        "\n",
        "def fibonacci( n ):\n",
        "    if n == 0:\n",
        "        return 0\n",
        "    elif n == 1:\n",
        "        return 1\n",
        "    else:\n",
        "        return fibonacci(n-1)+fibonacci(n-2)\n",
        "\n",
        "n = int(input('introduce un numero entero: '))\n",
        "print(fibonacci(n))"
      ],
      "execution_count": null,
      "outputs": [
        {
          "output_type": "stream",
          "name": "stdout",
          "text": [
            "introduce un numero entero: 10\n",
            "55\n"
          ]
        }
      ]
    },
    {
      "cell_type": "code",
      "metadata": {
        "id": "JIa8DuZqyYAw",
        "colab": {
          "base_uri": "https://localhost:8080/"
        },
        "outputId": "e3d48c39-d847-4551-dedd-a1a847323e62"
      },
      "source": [
        "\"\"\" Crear una lista de enteros en Python (cualquier lenguaje) y realizar\n",
        "la suma con recursividad, el caso base es cuando la lista esté vacía.\"\"\"\n",
        "\n",
        "def sumar_digitos(numero):\n",
        "    if numero == 0:\n",
        "        return 0\n",
        "    else:\n",
        "        return numero % 10 + sumar_digitos(numero // 10)\n",
        "\n",
        "print(sumar_digitos(253)) # 10\n",
        "print(sumar_digitos(123)) # 6\n",
        "print(sumar_digitos(12345)) # 15\n"
      ],
      "execution_count": 30,
      "outputs": [
        {
          "output_type": "stream",
          "name": "stdout",
          "text": [
            "10\n",
            "6\n",
            "15\n"
          ]
        }
      ]
    },
    {
      "cell_type": "code",
      "metadata": {
        "id": "VrCQCyhOGwHk"
      },
      "source": [
        ""
      ],
      "execution_count": null,
      "outputs": []
    },
    {
      "cell_type": "code",
      "metadata": {
        "id": "UikrnePZzGfN",
        "colab": {
          "base_uri": "https://localhost:8080/",
          "height": 239
        },
        "outputId": "5a9344ae-947c-43ff-b57e-dc85f9d11c0f"
      },
      "source": [
        "\"\"\"Hacer un contador\n",
        "regresivo con recursión y cuando termine (conteo llega a cero) que imprima la\n",
        "palabra BOOMMMMM !!!.\"\"\"\n",
        "\n",
        "def contador(num):\n",
        "     print(num)\n",
        "     if num == 0:\n",
        "        return  \"BOOOOOOOOOOOOOOOOOOOM!!!!!!\"\n",
        "        \n",
        "     else:\n",
        "        return contador(num-1)\n",
        "\n",
        "num=int(input(\"desde que numero quiere empezar ?\"))    \n",
        "contador(num)"
      ],
      "execution_count": 23,
      "outputs": [
        {
          "output_type": "stream",
          "name": "stdout",
          "text": [
            "desde que numero quiere empezar ?10\n",
            "10\n",
            "9\n",
            "8\n",
            "7\n",
            "6\n",
            "5\n",
            "4\n",
            "3\n",
            "2\n",
            "1\n",
            "0\n"
          ]
        },
        {
          "output_type": "execute_result",
          "data": {
            "application/vnd.google.colaboratory.intrinsic+json": {
              "type": "string"
            },
            "text/plain": [
              "'BOOOOOOOOOOOOOOOOOOOM!!!!!!'"
            ]
          },
          "metadata": {},
          "execution_count": 23
        }
      ]
    }
  ]
}